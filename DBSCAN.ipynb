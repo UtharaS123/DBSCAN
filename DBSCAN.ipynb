{
  "nbformat": 4,
  "nbformat_minor": 0,
  "metadata": {
    "colab": {
      "provenance": [],
      "gpuType": "V28",
      "authorship_tag": "ABX9TyPJViGV5JoqjHqSDSJ93CV2",
      "include_colab_link": true
    },
    "kernelspec": {
      "name": "python3",
      "display_name": "Python 3"
    },
    "language_info": {
      "name": "python"
    },
    "accelerator": "TPU"
  },
  "cells": [
    {
      "cell_type": "markdown",
      "metadata": {
        "id": "view-in-github",
        "colab_type": "text"
      },
      "source": [
        "<a href=\"https://colab.research.google.com/github/UtharaS123/DBSCAN/blob/main/DBSCAN.ipynb\" target=\"_parent\"><img src=\"https://colab.research.google.com/assets/colab-badge.svg\" alt=\"Open In Colab\"/></a>"
      ]
    },
    {
      "cell_type": "code",
      "execution_count": 1,
      "metadata": {
        "id": "FQEWEXOk7k1x"
      },
      "outputs": [],
      "source": [
        "# Importing the libraries\n",
        "import numpy as np\n",
        "import pandas as pd\n"
      ]
    },
    {
      "cell_type": "code",
      "source": [
        "# Importing the dataset\n",
        "dataset = pd.read_csv('Mall_Customers.csv')\n",
        "X = dataset.iloc[:, [3, 4]].values"
      ],
      "metadata": {
        "id": "wZLzcXgv7zvb"
      },
      "execution_count": 2,
      "outputs": []
    },
    {
      "cell_type": "code",
      "source": [
        "# Using the elbow method to find the optimal number of clusters\n",
        "from sklearn.cluster import DBSCAN\n",
        "dbscan=DBSCAN(eps=3,min_samples=4)\n"
      ],
      "metadata": {
        "id": "w721APNo72X6"
      },
      "execution_count": 3,
      "outputs": []
    },
    {
      "cell_type": "code",
      "source": [
        "# Fitting the model\n",
        "\n",
        "model=dbscan.fit(X)\n",
        "\n",
        "labels=model.labels_"
      ],
      "metadata": {
        "id": "aBOPlkP_759L"
      },
      "execution_count": 4,
      "outputs": []
    },
    {
      "cell_type": "code",
      "source": [
        "from sklearn import metrics\n",
        "\n",
        "#identifying the points which makes up our core points\n",
        "sample_cores=np.zeros_like(labels,dtype=bool)\n",
        "\n",
        "sample_cores[dbscan.core_sample_indices_]=True\n"
      ],
      "metadata": {
        "id": "MJ65iJNz78fG"
      },
      "execution_count": 5,
      "outputs": []
    },
    {
      "cell_type": "code",
      "source": [
        "#Calculating the number of clusters\n",
        "\n",
        "n_clusters=len(set(labels))- (1 if -1 in labels else 0)\n",
        "\n",
        "\n",
        "\n",
        "print(metrics.silhouette_score(X,labels))"
      ],
      "metadata": {
        "colab": {
          "base_uri": "https://localhost:8080/"
        },
        "id": "WXBJxHH17_Ot",
        "outputId": "dcb4b393-9ad9-4590-9c12-f30ec012f829"
      },
      "execution_count": 6,
      "outputs": [
        {
          "output_type": "stream",
          "name": "stdout",
          "text": [
            "-0.1908319132560097\n"
          ]
        }
      ]
    },
    {
      "cell_type": "code",
      "source": [],
      "metadata": {
        "id": "UD7S38oQ8CAW"
      },
      "execution_count": null,
      "outputs": []
    }
  ]
}